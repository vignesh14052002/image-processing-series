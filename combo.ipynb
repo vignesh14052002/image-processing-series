{
 "cells": [
  {
   "cell_type": "code",
   "execution_count": null,
   "metadata": {},
   "outputs": [],
   "source": []
  },
  {
   "cell_type": "code",
   "execution_count": 6,
   "metadata": {},
   "outputs": [],
   "source": []
  },
  {
   "cell_type": "code",
   "execution_count": 48,
   "metadata": {},
   "outputs": [],
   "source": [
    "#pattern in image\n",
    "#right angled triangle\n",
    "n,m=250,250\n",
    "im=np.zeros((n,m,3),dtype='uint8')\n",
    "#im+=255\n",
    "w1,w2=150,100\n",
    "top,bottom,left,right=100,10,100,50\n",
    "kernel=np.zeros((n,m,3),dtype='uint8')\n",
    "for i in range(n):\n",
    "    for j in range(m):\n",
    "        if (j>=(m//2)-i//2 and j<=(m//2)+i//2 and i<=n//2) or (i>n//2 and w1>j>w2) :\n",
    "            im[i][j]=255\n",
    "#im*=kernel\n",
    "opimg=Image.fromarray(im)\n",
    "opimg.show()\n",
    "opimg.save(r'C:\\Users\\Home\\Pictures\\impy60.jpg')\n",
    "#author-@_._hello_world._._"
   ]
  },
  {
   "cell_type": "code",
   "execution_count": null,
   "metadata": {},
   "outputs": [],
   "source": [
    "# if conditions\n",
    "# square and rectangle\n",
    "#    create four variables top,bottom,left,right and give values\n",
    "#    top>i and i>bottom and left>j and j>right\n",
    "\n",
    "# right angled triangle\n",
    "# right angle position\n",
    "#   top left           j<(m-i)\n",
    "#   bottom right       j>(m-i)\n",
    "#   top right          j>i\n",
    "#   bottom left        j<i\n",
    "\n",
    "# equilateral triangle j>=(m//2)-i//2 and j<=(m//2)+i//2\n",
    "\n",
    "# arrows\n",
    "# w1,w2 are arbitrary\n",
    "# arrow pointing\n",
    "#   up (j>=(m//2)-i//2 and j<=(m//2)+i//2 and i<=n//2) or (i>n//2 and w1>j>w2)\n",
    "#   down (j>=(m//2)-(m-i)//2 and j<=(m//2)+(m-i)//2 and i>=n//2) or (i<n//2 and w1>j>w2)\n",
    "#   left - swap i,j in kernel[i][j]+=1 , using if condition of up\n",
    "#   right - swap i,j in kernel[i][j]+=1 , using if condition of down\n",
    "\n"
   ]
  },
  {
   "cell_type": "code",
   "execution_count": 57,
   "metadata": {},
   "outputs": [
    {
     "name": "stdout",
     "output_type": "stream",
     "text": [
      "250 250\n"
     ]
    }
   ],
   "source": [
    "#crop with pattern\n",
    "from PIL import Image\n",
    "import numpy as np\n",
    "inimg=Image.open(r'C:\\Users\\Home\\Pictures\\gvr.jpg')\n",
    "inimg1=Image.open(r'C:\\Users\\Home\\Pictures\\impy60.jpg')\n",
    "img=np.asarray(inimg).copy()\n",
    "img1=np.asarray(inimg1).copy()\n",
    "img1//=255\n",
    "img2=img*img1\n",
    "opimg=Image.fromarray(img2)\n",
    "opimg.show()\n",
    "print(x,y)\n",
    "#author-@_._hello_world._._\n",
    "\n"
   ]
  },
  {
   "cell_type": "code",
   "execution_count": null,
   "metadata": {},
   "outputs": [],
   "source": []
  },
  {
   "cell_type": "code",
   "execution_count": null,
   "metadata": {},
   "outputs": [],
   "source": []
  }
 ],
 "metadata": {
  "kernelspec": {
   "display_name": "Python 3",
   "language": "python",
   "name": "python3"
  },
  "language_info": {
   "codemirror_mode": {
    "name": "ipython",
    "version": 3
   },
   "file_extension": ".py",
   "mimetype": "text/x-python",
   "name": "python",
   "nbconvert_exporter": "python",
   "pygments_lexer": "ipython3",
   "version": "3.7.6"
  }
 },
 "nbformat": 4,
 "nbformat_minor": 4
}
