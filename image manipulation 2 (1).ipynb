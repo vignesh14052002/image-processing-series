{
 "cells": [
  {
   "cell_type": "code",
   "execution_count": 1,
   "metadata": {},
   "outputs": [
    {
     "name": "stdout",
     "output_type": "stream",
     "text": [
      "1920 1080\n"
     ]
    }
   ],
   "source": [
    "\n",
    "from PIL import Image\n",
    "import numpy as np\n",
    "inimg=Image.open(r'C:\\Users\\Home\\Pictures\\vikikapasli.png')\n",
    "img=np.asarray(inimg)\n",
    "x,y,z=img.shape\n",
    "opimg=Image.fromarray(img)\n",
    "opimg.show()\n",
    "print(x,y)\n",
    "#author-@_._hello_world._._\n",
    "\n"
   ]
  },
  {
   "cell_type": "code",
   "execution_count": 2,
   "metadata": {},
   "outputs": [],
   "source": [
    "# create gradients \n",
    "from PIL import Image\n",
    "import numpy as np\n",
    "r,g,b=255,0,0 #top pixels colour\n",
    "img1=np.zeros((256,256,3),dtype='uint8')\n",
    "for i in range(256):\n",
    "    for j in range(256):\n",
    "        #swap i,j if you want colours horizontaly\n",
    "        img1[j][i][0]=r\n",
    "        img1[j][i][1]=g\n",
    "        img1[j][i][2]=b\n",
    "        g+=1\n",
    "grad=img1\n",
    "opimg=Image.fromarray(grad)\n",
    "opimg.show()\n",
    "#author-@_._hello_world._._\n"
   ]
  },
  {
   "cell_type": "code",
   "execution_count": 3,
   "metadata": {},
   "outputs": [],
   "source": [
    "#reduce resolution\n",
    "from PIL import Image\n",
    "import numpy as np\n",
    "inimg=Image.open(r'C:\\Users\\Home\\Pictures\\gvr.jpg')\n",
    "img=np.asarray(inimg)\n",
    "x,y,z=img.shape\n",
    "n,m=2,1\n",
    "x1,y1=x//n,y//m\n",
    "img1=np.zeros((x1,y1,3),dtype='uint8')\n",
    "for i in range(x1):\n",
    "    for j in range(y1):\n",
    "        img1[i][j]=img[i*n][j*m]\n",
    "opimg=Image.fromarray(img1)\n",
    "opimg.show()\n",
    "#author-@_._hello_world._._\n",
    "\n"
   ]
  },
  {
   "cell_type": "code",
   "execution_count": 4,
   "metadata": {},
   "outputs": [],
   "source": [
    "#checking\n",
    "check=np.zeros((x,y*2,3),dtype='uint8')\n",
    "check[:,:y]=img[:,:]\n",
    "check[:x1,y:y+y1]=img1[:]\n",
    "opimg=Image.fromarray(check)\n",
    "opimg.show()\n",
    "#author-@_._hello_world._._\n"
   ]
  },
  {
   "cell_type": "code",
   "execution_count": 1,
   "metadata": {},
   "outputs": [],
   "source": [
    "#increase resolution\n",
    "from PIL import Image\n",
    "import numpy as np\n",
    "inimg=Image.open(r'C:\\Users\\Home\\Pictures\\gvr.jpg')\n",
    "img=np.asarray(inimg)\n",
    "x,y,z=img.shape\n",
    "n,m=8,8\n",
    "x1,y1=x*n,y*m\n",
    "img1=np.zeros((x1,y1,3),dtype='uint8')\n",
    "for i in range(x1):\n",
    "    for j in range(y1):\n",
    "        img1[i][j]=img[i//n][j//m]\n",
    "opimg=Image.fromarray(img1)\n",
    "opimg.show()\n",
    "#author-@_._hello_world._._\n",
    "\n"
   ]
  },
  {
   "cell_type": "code",
   "execution_count": 77,
   "metadata": {},
   "outputs": [],
   "source": [
    "# create gradient\n",
    "from PIL import Image\n",
    "import numpy as np\n",
    "img=np.zeros((256,256,3),dtype='uint8')\n",
    "r,g,b=255,0,0 #top pixels colour\n",
    "for i in range(256):\n",
    "    for j in range(256):\n",
    "        #swap i,j if you want colours horizontaly\n",
    "        img[j][i][0]=r\n",
    "        img[j][i][1]=g\n",
    "        img[j][i][2]=b\n",
    "        g+=1\n",
    "opimg=Image.fromarray(img)\n",
    "opimg.show()\n",
    "#author-@_._hello_world._._\n",
    "\n"
   ]
  },
  {
   "cell_type": "code",
   "execution_count": 21,
   "metadata": {},
   "outputs": [
    {
     "name": "stdout",
     "output_type": "stream",
     "text": [
      "  pixel=39278/65536  ,RGB values (255, 7, 154) ) el=816/65536  ,RGB values (255, 50, 3)  pixel=1112/65536  ,RGB values (255, 91, 4)  pixel=1182/65536  ,RGB values (255, 161, 4)  pixel=1411/65536  ,RGB values (255, 135, 5)  pixel=1423/65536  ,RGB values (255, 147, 5)  pixel=1425/65536  ,RGB values (255, 149, 5)  pixel=1446/65536  ,RGB values (255, 170, 5)  pixel=2128/65536  ,RGB values (255, 87, 8)  pixel=2801/65536  ,RGB values (255, 250, 10)  pixel=2983/65536  ,RGB values (255, 177, 11)  pixel=3476/65536  ,RGB values (255, 160, 13)  pixel=3621/65536  ,RGB values (255, 50, 14)  pixel=3695/65536  ,RGB values (255, 124, 14)  pixel=3897/65536  ,RGB values (255, 71, 15)  pixel=4380/65536  ,RGB values (255, 44, 17)  pixel=4627/65536  ,RGB values (255, 36, 18)  pixel=4731/65536  ,RGB values (255, 140, 18)  pixel=4835/65536  ,RGB values (255, 244, 18)  pixel=4855/65536  ,RGB values (255, 9, 19)  pixel=5403/65536  ,RGB values (255, 47, 21)  pixel=6053/65536  ,RGB values (255, 187, 23)  pixel=6113/65536  ,RGB values (255, 247, 23)  pixel=6195/65536  ,RGB values (255, 74, 24)  pixel=6220/65536  ,RGB values (255, 99, 24)  pixel=6245/65536  ,RGB values (255, 124, 24)  pixel=6265/65536  ,RGB values (255, 144, 24)  pixel=6288/65536  ,RGB values (255, 167, 24)  pixel=6969/65536  ,RGB values (255, 83, 27)  pixel=7428/65536  ,RGB values (255, 32, 29)  pixel=8560/65536  ,RGB values (255, 144, 33)  pixel=8627/65536  ,RGB values (255, 211, 33)  pixel=8687/65536  ,RGB values (255, 16, 34)  pixel=8723/65536  ,RGB values (255, 52, 34)  pixel=8748/65536  ,RGB values (255, 77, 34)  pixel=8800/65536  ,RGB values (255, 129, 34)  pixel=8803/65536  ,RGB values (255, 132, 34)  pixel=9247/65536  ,RGB values (255, 66, 36)  pixel=9390/65536  ,RGB values (255, 209, 36)  pixel=9596/65536  ,RGB values (255, 160, 37)  pixel=9794/65536  ,RGB values (255, 103, 38)  pixel=9867/65536  ,RGB values (255, 176, 38)  pixel=9871/65536  ,RGB values (255, 180, 38)  pixel=10671/65536  ,RGB values (255, 215, 41)  pixel=10956/65536  ,RGB values (255, 245, 42)  pixel=11144/65536  ,RGB values (255, 178, 43)  pixel=11268/65536  ,RGB values (255, 47, 44)  pixel=11302/65536  ,RGB values (255, 81, 44)  pixel=11303/65536  ,RGB values (255, 82, 44)  pixel=11344/65536  ,RGB values (255, 123, 44)  pixel=11419/65536  ,RGB values (255, 198, 44)  pixel=11425/65536  ,RGB values (255, 204, 44)  pixel=11791/65536  ,RGB values (255, 60, 46)  pixel=11876/65536  ,RGB values (255, 145, 46)  pixel=12081/65536  ,RGB values (255, 95, 47)  pixel=12113/65536  ,RGB values (255, 127, 47)  pixel=12125/65536  ,RGB values (255, 139, 47)  pixel=12137/65536  ,RGB values (255, 151, 47)  pixel=12220/65536  ,RGB values (255, 234, 47)  pixel=12804/65536  ,RGB values (255, 53, 50)  pixel=12838/65536  ,RGB values (255, 87, 50)  pixel=12912/65536  ,RGB values (255, 161, 50)  pixel=12950/65536  ,RGB values (255, 199, 50)  pixel=12981/65536  ,RGB values (255, 230, 50)  pixel=13099/65536  ,RGB values (255, 93, 51)  pixel=13800/65536  ,RGB values (255, 29, 54)  pixel=14520/65536  ,RGB values (255, 239, 56)  pixel=14553/65536  ,RGB values (255, 17, 57)  pixel=14940/65536  ,RGB values (255, 149, 58)  pixel=15253/65536  ,RGB values (255, 207, 59)  pixel=15416/65536  ,RGB values (255, 115, 60)  pixel=15431/65536  ,RGB values (255, 130, 60)  pixel=15451/65536  ,RGB values (255, 150, 60)  pixel=15548/65536  ,RGB values (255, 247, 60)  pixel=16062/65536  ,RGB values (255, 251, 62)  pixel=16079/65536  ,RGB values (255, 13, 63)  pixel=16325/65536  ,RGB values (255, 4, 64)  pixel=16355/65536  ,RGB values (255, 34, 64)  pixel=16394/65536  ,RGB values (255, 73, 64)  pixel=16397/65536  ,RGB values (255, 76, 64)  pixel=16403/65536  ,RGB values (255, 82, 64)  pixel=17075/65536  ,RGB values (255, 244, 66)  pixel=17112/65536  ,RGB values (255, 26, 67)  pixel=17358/65536  ,RGB values (255, 17, 68)  pixel=17995/65536  ,RGB values (255, 144, 70)  pixel=18009/65536  ,RGB values (255, 158, 70)  pixel=18100/65536  ,RGB values (255, 249, 70)  pixel=18161/65536  ,RGB values (255, 55, 71)  pixel=18227/65536  ,RGB values (255, 121, 71)  pixel=18395/65536  ,RGB values (255, 34, 72)  pixel=18589/65536  ,RGB values (255, 228, 72)  pixel=18817/65536  ,RGB values (255, 201, 73)  pixel=18946/65536  ,RGB values (255, 75, 74)  pixel=18995/65536  ,RGB values (255, 124, 74)  pixel=19350/65536  ,RGB values (255, 224, 75)  pixel=19979/65536  ,RGB values (255, 88, 78)  pixel=19980/65536  ,RGB values (255, 89, 78)  pixel=20025/65536  ,RGB values (255, 134, 78)  pixel=20068/65536  ,RGB values (255, 177, 78)  pixel=20127/65536  ,RGB values (255, 236, 78)  pixel=20253/65536  ,RGB values (255, 107, 79)  pixel=20366/65536  ,RGB values (255, 220, 79)  pixel=20713/65536  ,RGB values (255, 57, 81)  pixel=21627/65536  ,RGB values (255, 206, 84)  pixel=21984/65536  ,RGB values (255, 53, 86)  pixel=22011/65536  ,RGB values (255, 80, 86)  pixel=22050/65536  ,RGB values (255, 119, 86)  pixel=22150/65536  ,RGB values (255, 219, 86)  pixel=22162/65536  ,RGB values (255, 231, 86)  pixel=22232/65536  ,RGB values (255, 46, 87)  pixel=22441/65536  ,RGB values (255, 0, 88)  pixel=22569/65536  ,RGB values (255, 128, 88)  pixel=22634/65536  ,RGB values (255, 193, 88)  pixel=22699/65536  ,RGB values (255, 3, 89)  pixel=23800/65536  ,RGB values (255, 84, 93)  pixel=23819/65536  ,RGB values (255, 103, 93)  pixel=23826/65536  ,RGB values (255, 110, 93)  pixel=23828/65536  ,RGB values (255, 112, 93)  pixel=24332/65536  ,RGB values (255, 106, 95)  pixel=24744/65536  ,RGB values (255, 8, 97)  pixel=24890/65536  ,RGB values (255, 154, 97)  pixel=25106/65536  ,RGB values (255, 115, 98)  pixel=25183/65536  ,RGB values (255, 192, 98)  pixel=26125/65536  ,RGB values (255, 114, 102)  pixel=26166/65536  ,RGB values (255, 155, 102)  pixel=26175/65536  ,RGB values (255, 164, 102)  pixel=27180/65536  ,RGB values (255, 149, 106)  pixel=27294/65536  ,RGB values (255, 8, 107)  pixel=27322/65536  ,RGB values (255, 36, 107)  pixel=27335/65536  ,RGB values (255, 49, 107)  pixel=27614/65536  ,RGB values (255, 73, 108)  pixel=27683/65536  ,RGB values (255, 142, 108)  pixel=27701/65536  ,RGB values (255, 160, 108)  pixel=27730/65536  ,RGB values (255, 189, 108)  pixel=28462/65536  ,RGB values (255, 156, 111)  pixel=28484/65536  ,RGB values (255, 178, 111)  pixel=28507/65536  ,RGB values (255, 201, 111)  pixel=28645/65536  ,RGB values (255, 84, 112)  pixel=29278/65536  ,RGB values (255, 207, 114)  pixel=29432/65536  ,RGB values (255, 106, 115)  pixel=29552/65536  ,RGB values (255, 226, 115)  pixel=29593/65536  ,RGB values (255, 12, 116)  pixel=29613/65536  ,RGB values (255, 32, 116)  pixel=30126/65536  ,RGB values (255, 35, 118)  pixel=30308/65536  ,RGB values (255, 217, 118)  pixel=30470/65536  ,RGB values (255, 124, 119)  pixel=30476/65536  ,RGB values (255, 130, 119)  pixel=30501/65536  ,RGB values (255, 155, 119)  pixel=31094/65536  ,RGB values (255, 238, 121)   pixel=31715/65536  ,RGB values (255, 94, 124)  pixel=31874/65536  ,RGB values (255, 253, 124)  pixel=31929/65536  ,RGB values (255, 53, 125)  pixel=31940/65536  ,RGB values (255, 64, 125)  pixel=32428/65536  ,RGB values (255, 42, 127)  pixel=32488/65536  ,RGB values (255, 102, 127)  pixel=33185/65536  ,RGB values (255, 34, 130)  pixel=33312/65536  ,RGB values (255, 161, 130)  pixel=33313/65536  ,RGB values (255, 162, 130)  pixel=33319/65536  ,RGB values (255, 168, 130)  pixel=33840/65536  ,RGB values (255, 179, 132)  pixel=34557/65536  ,RGB values (255, 131, 135)  pixel=34616/65536  ,RGB values (255, 190, 135)  pixel=35009/65536  ,RGB values (255, 73, 137)  pixel=35132/65536  ,RGB values (255, 196, 137)  pixel=35391/65536  ,RGB values (255, 200, 138)  pixel=35952/65536  ,RGB values (255, 251, 140)  pixel=35969/65536  ,RGB values (255, 13, 141)  pixel=35983/65536  ,RGB values (255, 27, 141)  pixel=36393/65536  ,RGB values (255, 182, 142)  pixel=36396/65536  ,RGB values (255, 185, 142)  pixel=36454/65536  ,RGB values (255, 243, 142)  pixel=36979/65536  ,RGB values (255, 3, 145)  pixel=36983/65536  ,RGB values (255, 7, 145)  pixel=37095/65536  ,RGB values (255, 119, 145)  pixel=37871/65536  ,RGB values (255, 130, 148)  pixel=39279/65536  ,RGB values (255, 8, 154)   pixel=65400/65536  ,RGB values (255, 119, 256)  pixel=39530/65536  ,RGB values (255, 4, 155)  pixel=39581/65536  ,RGB values (255, 55, 155)  pixel=39606/65536  ,RGB values (255, 80, 155)  pixel=40015/65536  ,RGB values (255, 234, 156)  pixel=40258/65536  ,RGB values (255, 222, 157)  pixel=40401/65536  ,RGB values (255, 110, 158)  pixel=40593/65536  ,RGB values (255, 47, 159)  pixel=40986/65536  ,RGB values (255, 185, 160)  pixel=41044/65536  ,RGB values (255, 243, 160)  pixel=41200/65536  ,RGB values (255, 144, 161)  pixel=41556/65536  ,RGB values (255, 245, 162)  pixel=41841/65536  ,RGB values (255, 20, 164)  pixel=42363/65536  ,RGB values (255, 32, 166)  pixel=42449/65536  ,RGB values (255, 118, 166)  pixel=43014/65536  ,RGB values (255, 173, 168)  pixel=43084/65536  ,RGB values (255, 243, 168)  pixel=43123/65536  ,RGB values (255, 27, 169)  pixel=43133/65536  ,RGB values (255, 37, 169)  pixel=44006/65536  ,RGB values (255, 145, 172)  pixel=44153/65536  ,RGB values (255, 37, 173)  pixel=44184/65536  ,RGB values (255, 68, 173)  pixel=44204/65536  ,RGB values (255, 88, 173)  pixel=44794/65536  ,RGB values (255, 168, 175)  pixel=44865/65536  ,RGB values (255, 239, 175)  pixel=44895/65536  ,RGB values (255, 14, 176)  pixel=45400/65536  ,RGB values (255, 9, 178)  pixel=45551/65536  ,RGB values (255, 160, 178)  pixel=45590/65536  ,RGB values (255, 199, 178)  pixel=45602/65536  ,RGB values (255, 211, 178)  pixel=46091/65536  ,RGB values (255, 190, 180)  pixel=46126/65536  ,RGB values (255, 225, 180)  pixel=46166/65536  ,RGB values (255, 10, 181)  pixel=46409/65536  ,RGB values (255, 253, 181)  pixel=46419/65536  ,RGB values (255, 8, 182)  pixel=46723/65536  ,RGB values (255, 57, 183)  pixel=46816/65536  ,RGB values (255, 150, 183)  pixel=46859/65536  ,RGB values (255, 193, 183)  pixel=47030/65536  ,RGB values (255, 109, 184)  pixel=47154/65536  ,RGB values (255, 233, 184)  pixel=48140/65536  ,RGB values (255, 199, 188)  pixel=48171/65536  ,RGB values (255, 230, 188)  pixel=48738/65536  ,RGB values (255, 32, 191)  pixel=48753/65536  ,RGB values (255, 47, 191)  pixel=49289/65536  ,RGB values (255, 73, 193)  pixel=49428/65536  ,RGB values (255, 212, 193)  pixel=50194/65536  ,RGB values (255, 213, 196)  pixel=50394/65536  ,RGB values (255, 158, 197)  pixel=50408/65536  ,RGB values (255, 172, 197)  pixel=50435/65536  ,RGB values (255, 199, 197)  pixel=50521/65536  ,RGB values (255, 30, 198)  pixel=50547/65536  ,RGB values (255, 56, 198)  pixel=50562/65536  ,RGB values (255, 71, 198)  pixel=50688/65536  ,RGB values (255, 197, 198)  pixel=50959/65536  ,RGB values (255, 213, 199)  pixel=51164/65536  ,RGB values (255, 163, 200)  pixel=51175/65536  ,RGB values (255, 174, 200)  pixel=51186/65536  ,RGB values (255, 185, 200)  pixel=51187/65536  ,RGB values (255, 186, 200)  pixel=51227/65536  ,RGB values (255, 226, 200)  pixel=52165/65536  ,RGB values (255, 144, 204)  pixel=52556/65536  ,RGB values (255, 25, 206)  pixel=52588/65536  ,RGB values (255, 57, 206)  pixel=52870/65536  ,RGB values (255, 84, 207)  pixel=52913/65536  ,RGB values (255, 127, 207)  pixel=52927/65536  ,RGB values (255, 141, 207)  pixel=53530/65536  ,RGB values (255, 234, 209)  pixel=53655/65536  ,RGB values (255, 104, 210)  pixel=54179/65536  ,RGB values (255, 118, 212)  pixel=55591/65536  ,RGB values (255, 0, 218)  pixel=55708/65536  ,RGB values (255, 117, 218)  pixel=55790/65536  ,RGB values (255, 199, 218)  pixel=55888/65536  ,RGB values (255, 42, 219)  pixel=55901/65536  ,RGB values (255, 55, 219)  pixel=56535/65536  ,RGB values (255, 179, 221)  pixel=56735/65536  ,RGB values (255, 124, 222)  pixel=56825/65536  ,RGB values (255, 214, 222)  pixel=56865/65536  ,RGB values (255, 254, 222)  pixel=57130/65536  ,RGB values (255, 9, 224)  pixel=57143/65536  ,RGB values (255, 22, 224)  pixel=57170/65536  ,RGB values (255, 49, 224)  pixel=57179/65536  ,RGB values (255, 58, 224)  pixel=57483/65536  ,RGB values (255, 107, 225)  pixel=57819/65536  ,RGB values (255, 188, 226)  pixel=58009/65536  ,RGB values (255, 123, 227)  pixel=58348/65536  ,RGB values (255, 207, 228)  pixel=59507/65536  ,RGB values (255, 91, 233)  pixel=59531/65536  ,RGB values (255, 115, 233)  pixel=59647/65536  ,RGB values (255, 231, 233)  pixel=59666/65536  ,RGB values (255, 250, 233)  pixel=60356/65536  ,RGB values (255, 175, 236)  pixel=60739/65536  ,RGB values (255, 48, 238)  pixel=61052/65536  ,RGB values (255, 106, 239)  pixel=61240/65536  ,RGB values (255, 39, 240)  pixel=61337/65536  ,RGB values (255, 136, 240)  pixel=61510/65536  ,RGB values (255, 54, 241)  pixel=61525/65536  ,RGB values (255, 69, 241)  pixel=61555/65536  ,RGB values (255, 99, 241)  pixel=61585/65536  ,RGB values (255, 129, 241)   pixel=63021/65536  ,RGB values (255, 35, 247)  pixel=63047/65536  ,RGB values (255, 61, 247)  pixel=63076/65536  ,RGB values (255, 90, 247)  pixel=63216/65536  ,RGB values (255, 230, 247)  pixel=63254/65536  ,RGB values (255, 13, 248)  pixel=63729/65536  ,RGB values (255, 233, 249)  pixel=63852/65536  ,RGB values (255, 101, 250)  pixel=63969/65536  ,RGB values (255, 218, 250)  pixel=64065/65536  ,RGB values (255, 59, 251)  pixel=64612/65536  ,RGB values (255, 96, 253)  pixel=64686/65536  ,RGB values (255, 170, 253)  pixel=64726/65536  ,RGB values (255, 210, 253)  pixel=64783/65536  ,RGB values (255, 12, 254)  pixel=65103/65536  ,RGB values (255, 77, 255)  pixel=65146/65536  ,RGB values (255, 120, 255)  pixel=65181/65536  ,RGB values (255, 155, 255)  pixel=65216/65536  ,RGB values (255, 190, 255) "
     ]
    }
   ],
   "source": [
    "#generate all colours\n",
    "\n",
    "from PIL import Image\n",
    "import numpy as np\n",
    "from datetime import datetime\n",
    "start=datetime.now()\n",
    "v=16777216\n",
    "x,y=2:1\n",
    "x,y=int(h*math.sqrt(v/(h*w)))+1,int(w*math.sqrt(v/(h*w)))+1\n",
    "img=np.zeros((x,y,3),dtype='uint8')\n",
    "r,g,b=0,0,0\n",
    "for i in range(x):\n",
    "    print('\\r',f' pixel={i}/{x}  ,RGB values {r,g,b} ',end='',flush=True)\n",
    "    for j in range(y):\n",
    "        \n",
    "        if r==255:\n",
    "            r=0\n",
    "            g+=1\n",
    "        if g==255:\n",
    "            g=0\n",
    "            b+=1         \n",
    "        img[i][j][0]=r\n",
    "        img[i][j][1]=g\n",
    "        img[i][j][2]=b\n",
    "        r+=1\n",
    "end=datetime.now()\n",
    "print(end-start)\n",
    "opimg=Image.fromarray(img)\n",
    "opimg.show()\n",
    "#author-@_._hello_world._._\n",
    "\n"
   ]
  },
  {
   "cell_type": "code",
   "execution_count": 13,
   "metadata": {},
   "outputs": [],
   "source": [
    "# apply filters\n",
    "from PIL import Image\n",
    "import numpy as np\n",
    "inimg=Image.open(r'C:\\Users\\Home\\Pictures\\gvr.jpg')\n",
    "gradimg=Image.open(r'C:\\Users\\Home\\Pictures\\impy52.jpg')\n",
    "img=np.asarray(inimg)\n",
    "grad=np.asarray(gradimg)\n",
    "img,grad=img.copy(),grad.copy()\n",
    "grad=grad[:250,:250]\n",
    "img//=2\n",
    "grad//=2\n",
    "img+=grad\n",
    "opimg=Image.fromarray(img)\n",
    "opimg.show()\n",
    "#author-@_._hello_world._._\n",
    "\n"
   ]
  },
  {
   "cell_type": "code",
   "execution_count": 16,
   "metadata": {},
   "outputs": [],
   "source": [
    "# shuffle channels\n",
    "from PIL import Image\n",
    "import numpy as np\n",
    "inimg=Image.open(r'C:\\Users\\Home\\Pictures\\colour.jpg')\n",
    "img=np.asarray(inimg)\n",
    "img1=img.copy()\n",
    "r,g,b=0,1,2\n",
    "r,g,b=g,r,b\n",
    "img1[:,:,0],img1[:,:,1],img1[:,:,2]=img[:,:,r],img[:,:,g],img[:,:,b]\n",
    "opimg=Image.fromarray(img1)\n",
    "opimg.show()"
   ]
  },
  {
   "cell_type": "code",
   "execution_count": 100,
   "metadata": {},
   "outputs": [],
   "source": []
  },
  {
   "cell_type": "code",
   "execution_count": 101,
   "metadata": {},
   "outputs": [],
   "source": []
  },
  {
   "cell_type": "code",
   "execution_count": 64,
   "metadata": {},
   "outputs": [],
   "source": []
  },
  {
   "cell_type": "code",
   "execution_count": null,
   "metadata": {},
   "outputs": [],
   "source": []
  }
 ],
 "metadata": {
  "kernelspec": {
   "display_name": "Python 3",
   "language": "python",
   "name": "python3"
  },
  "language_info": {
   "codemirror_mode": {
    "name": "ipython",
    "version": 3
   },
   "file_extension": ".py",
   "mimetype": "text/x-python",
   "name": "python",
   "nbconvert_exporter": "python",
   "pygments_lexer": "ipython3",
   "version": "3.7.6"
  }
 },
 "nbformat": 4,
 "nbformat_minor": 4
}
