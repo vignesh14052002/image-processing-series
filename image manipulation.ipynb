{
 "cells": [
  {
   "cell_type": "code",
   "execution_count": 90,
   "metadata": {},
   "outputs": [],
   "source": [
    "from PIL import Image\n",
    "import numpy as np\n",
    "inimg=Image.open(r'C:\\Users\\Home\\Pictures\\gvr.jpg')\n",
    "img=np.asarray(inimg)\n",
    "opimg=Image.fromarray(img)\n",
    "opimg.show()\n",
    "#author-@_._hello_world._._\n",
    "\n"
   ]
  },
  {
   "cell_type": "code",
   "execution_count": 101,
   "metadata": {},
   "outputs": [],
   "source": [
    "#crop image\n",
    "from PIL import Image\n",
    "import numpy as np\n",
    "inimg=Image.open(r'C:\\Users\\Home\\Pictures\\gvr.jpg')\n",
    "img=np.asarray(inimg)\n",
    "x,y,z=img.shape\n",
    "#remove 30 pixels from all sides\n",
    "img=img[30:x-30,30:y-30]\n",
    "opimg=Image.fromarray(img)\n",
    "opimg.show()\n",
    "#author-@_._hello_world._._\n",
    "\n"
   ]
  },
  {
   "cell_type": "code",
   "execution_count": 106,
   "metadata": {},
   "outputs": [],
   "source": [
    "#negative image\n",
    "from PIL import Image\n",
    "import numpy as np\n",
    "inimg=Image.open(r'C:\\Users\\Home\\Pictures\\gvr.jpg')\n",
    "img=np.asarray(inimg)\n",
    "img=255-img\n",
    "opimg=Image.fromarray(img)\n",
    "opimg.show()\n",
    "#author-@_._hello_world._._\n",
    "\n"
   ]
  },
  {
   "cell_type": "code",
   "execution_count": 100,
   "metadata": {},
   "outputs": [],
   "source": [
    "#seperate R,G,B from images\n",
    "opimg=[]#to store output images\n",
    "for i in range(3):\n",
    "    #copying only one colour to temporary variable \n",
    "    #for each iteration and displaying\n",
    "    temp=np.zeros(img.shape,dtype=\"uint8\")\n",
    "    temp[:,:,i]=img[:,:,i]\n",
    "    im=Image.fromarray(temp)\n",
    "    opimg.append(im)\n",
    "    opimg[i].show()\n",
    "\n",
    "#author-@_._hello_world._._\n",
    "\n"
   ]
  },
  {
   "cell_type": "code",
   "execution_count": null,
   "metadata": {},
   "outputs": [],
   "source": []
  },
  {
   "cell_type": "code",
   "execution_count": 28,
   "metadata": {},
   "outputs": [],
   "source": [
    "#RGB to greyscale image\n",
    "\n",
    "opimg=[]#to store output images\n",
    "for i in range(3):\n",
    "    grey=img[:,:,i]\n",
    "    im=Image.fromarray(grey)\n",
    "    opimg.append(im)\n",
    "    opimg[i].show()\n",
    "#author-@_._hello_world._._\n",
    "\n"
   ]
  },
  {
   "cell_type": "code",
   "execution_count": 95,
   "metadata": {},
   "outputs": [],
   "source": [
    "#adjust saturation\n",
    "\n",
    "x,y,z=img.shape\n",
    "img1=np.copy(img)\n",
    "s=50\n",
    "for i in range(x):\n",
    "    for j in range(y):\n",
    "        #0,1,2 for R,G,B respectively\n",
    "        if img[i][j][2]+s<255:\n",
    "            img1[i][j][2]=img[i][j][2]+s\n",
    "opimg=Image.fromarray(img1)\n",
    "opimg.show()\n",
    "#author-@_._hello_world._._\n",
    "\n"
   ]
  },
  {
   "cell_type": "code",
   "execution_count": 14,
   "metadata": {},
   "outputs": [],
   "source": [
    "#adjust brightness\n",
    "\n",
    "img1=np.copy(img)\n",
    "x,y,z=img.shape\n",
    "def bright(img1,b):\n",
    "    if max(img1[i][j])+b>=255:\n",
    "        img1[i][j]=255\n",
    "    else:\n",
    "        img1[i][j]+=b\n",
    "def dull(img1,d):\n",
    "    if min(img1[i][j])-d<=0:\n",
    "        img1[i][j]=0\n",
    "    else:\n",
    "        img1[i][j]-=d\n",
    "\n",
    "for i in range(x):\n",
    "    for j in range(y):\n",
    "        #place either dull or bright function here\n",
    "        bright(img1,100)\n",
    "opimg=Image.fromarray(img1)\n",
    "opimg.show()\n",
    "#author-@_._hello_world._._\n",
    "\n"
   ]
  },
  {
   "cell_type": "code",
   "execution_count": 82,
   "metadata": {},
   "outputs": [],
   "source": [
    "#rotate images 90 degree\n",
    "\n",
    "inimg=Image.open(r'C:\\Users\\Home\\Pictures\\curvedarrow.jpg')\n",
    "img=np.asarray(inimg)\n",
    "x,y,z=img.shape\n",
    "\n",
    "def rotate90():\n",
    "    global img,img1,y\n",
    "    img1=np.zeros((y,x,z),dtype='uint8')\n",
    "    for i in range(y):\n",
    "        img1[i,:]=img[:,i]\n",
    "rotate90()\n",
    "opimg=Image.fromarray(img1)\n",
    "opimg.show()\n",
    "#author-@_._hello_world._._"
   ]
  },
  {
   "cell_type": "code",
   "execution_count": 68,
   "metadata": {},
   "outputs": [],
   "source": [
    "#flip images\n",
    "\n",
    "inimg=Image.open(r'C:\\Users\\Home\\Pictures\\curvedarrow.jpg')\n",
    "img=np.asarray(inimg)\n",
    "x,y,z=img.shape\n",
    "img1=img.copy()\n",
    "def flip_vertical():\n",
    "    global img,img1,x\n",
    "    for i in range(x):\n",
    "        img1[i,:]=img[x-i-1,:]\n",
    "def flip_horizontal():\n",
    "    global img,img1,y\n",
    "    for i in range(y):\n",
    "        img1[:,i]=img[:,y-i-1]\n",
    "flip_vertical()\n",
    "opimg=Image.fromarray(img1)\n",
    "opimg.show()\n",
    "#author-@_._hello_world._._"
   ]
  },
  {
   "cell_type": "code",
   "execution_count": 88,
   "metadata": {},
   "outputs": [],
   "source": [
    "\n",
    "\n",
    "inimg=Image.open(r'C:\\Users\\Home\\Pictures\\curvedarrow.jpg')\n",
    "img=np.asarray(inimg)\n",
    "x,y,z=img.shape\n",
    "img1=img.copy()\n",
    "def flip_vertical():\n",
    "    global img,img1,x\n",
    "    for i in range(x):\n",
    "        img1[i,:]=img[x-i-1,:]\n",
    "def flip_horizontal():\n",
    "    global img,img1,y\n",
    "    for i in range(y):\n",
    "        img1[:,i]=img[:,y-i-1]\n",
    "def rotate90():\n",
    "    global img,img1,y\n",
    "    img1=np.zeros((y,x,z),dtype='uint8')\n",
    "    for i in range(y):\n",
    "        img1[i,:]=img[:,i] \n",
    "def rotate180():\n",
    "    global img,img1,x,y\n",
    "    flip_vertical()\n",
    "    img=img1.copy()\n",
    "    flip_horizontal()\n",
    "def rotate270():\n",
    "    global img,img1,x,y,z\n",
    "    rotate90()\n",
    "    img=img1.copy()\n",
    "    x,y=y,x\n",
    "    flip_horizontal()\n",
    "    img=img1.copy()\n",
    "    flip_vertical()\n",
    "    \n",
    "rotate180()\n",
    "opimg=Image.fromarray(img1)\n",
    "opimg.show()   "
   ]
  },
  {
   "cell_type": "code",
   "execution_count": null,
   "metadata": {},
   "outputs": [],
   "source": []
  }
 ],
 "metadata": {
  "kernelspec": {
   "display_name": "Python 3",
   "language": "python",
   "name": "python3"
  },
  "language_info": {
   "codemirror_mode": {
    "name": "ipython",
    "version": 3
   },
   "file_extension": ".py",
   "mimetype": "text/x-python",
   "name": "python",
   "nbconvert_exporter": "python",
   "pygments_lexer": "ipython3",
   "version": "3.7.6"
  }
 },
 "nbformat": 4,
 "nbformat_minor": 4
}
